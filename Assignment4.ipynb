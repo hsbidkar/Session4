{
 "cells": [
  {
   "cell_type": "markdown",
   "metadata": {},
   "source": [
    "# Assignment 4\n",
    "## Task 1: Write a function to find moving average in an array over a window:</BR>Test it over [3, 5, 7, 2, 8, 10, 11, 65, 72, 81, 99, 100, 150] and window of 3."
   ]
  },
  {
   "cell_type": "code",
   "execution_count": 225,
   "metadata": {},
   "outputs": [
    {
     "name": "stdout",
     "output_type": "stream",
     "text": [
      "[5, 4, 5, 6, 9, 28, 49, 72, 84, 93, 116]\n",
      "[26, 36, 45, 59]\n"
     ]
    }
   ],
   "source": [
    "def movavg(arr,window) :\n",
    "    tmplst=[]\n",
    "    arlen=len(arr)\n",
    "    for i in range(arlen-window+1):\n",
    "        sumarr = 0\n",
    "        for j in range(i,window+i):\n",
    "            sumarr+=arr[j]/window\n",
    "        tmplst.append(int(sumarr))\n",
    "    return tmplst\n",
    "        \n",
    "arr=[3, 5, 7, 2, 8, 10, 11, 65, 72, 81, 99, 100, 150]\n",
    "window=3\n",
    "result = []\n",
    "result = movavg(arr,window)\n",
    "print(result)\n",
    "\n",
    "print(movavg(arr,window=10))"
   ]
  },
  {
   "cell_type": "markdown",
   "metadata": {},
   "source": [
    "## Task 2\n",
    "\n",
    "### 2.1: How-to-count-distance-to-the-previous-zero </br> For each value, count the difference back to the previous zero (or the start of the Series, whichever is closer)"
   ]
  },
  {
   "cell_type": "code",
   "execution_count": 226,
   "metadata": {},
   "outputs": [
    {
     "name": "stdout",
     "output_type": "stream",
     "text": [
      "   X    Y\n",
      "0  7  1.0\n",
      "1  2  2.0\n",
      "2  0  0.0\n",
      "3  3  1.0\n",
      "4  4  2.0\n",
      "5  2  3.0\n",
      "6  5  4.0\n",
      "7  0  0.0\n",
      "8  3  1.0\n",
      "9  4  2.0\n"
     ]
    }
   ],
   "source": [
    "import pandas as pd\n",
    "df = pd.DataFrame({'X': [7, 2, 0, 3, 4, 2, 5, 0, 3, 4]})\n",
    "counter=0\n",
    "df['Y']=df.loc[df.X == 0]\n",
    "\n",
    "for i in range(int(df.X.describe()['count'])) :\n",
    "    if str(df['Y'][i]) == 'nan' :\n",
    "        counter+=1\n",
    "    else:\n",
    "        counter=0\n",
    "    df.loc[i,'Y'] = counter\n",
    "\n",
    "print(df)"
   ]
  },
  {
   "cell_type": "markdown",
   "metadata": {},
   "source": [
    "### 2.2 : Create a DatetimeIndex that contains each business day of 2015 and use it to index a Series of random numbers."
   ]
  },
  {
   "cell_type": "code",
   "execution_count": 227,
   "metadata": {},
   "outputs": [
    {
     "name": "stdout",
     "output_type": "stream",
     "text": [
      "2015-01-01   -1.160013\n",
      "2015-01-02    0.395452\n",
      "2015-01-05   -0.067160\n",
      "2015-01-06   -0.470135\n",
      "2015-01-07    1.158491\n",
      "2015-01-08   -0.383241\n",
      "2015-01-09   -0.003285\n",
      "2015-01-12   -0.340462\n",
      "2015-01-13   -0.111290\n",
      "2015-01-14   -1.137758\n",
      "2015-01-15   -0.411326\n",
      "2015-01-16   -0.446784\n",
      "2015-01-19   -0.499738\n",
      "2015-01-20    1.790381\n",
      "2015-01-21    2.047204\n",
      "2015-01-22    0.990741\n",
      "2015-01-23   -0.527198\n",
      "2015-01-26    0.205518\n",
      "2015-01-27    1.429175\n",
      "2015-01-28    0.121593\n",
      "2015-01-29    1.606634\n",
      "2015-01-30   -0.570396\n",
      "2015-02-02   -0.125967\n",
      "2015-02-03    0.839838\n",
      "2015-02-04    0.058867\n",
      "2015-02-05   -1.517734\n",
      "2015-02-06    0.738882\n",
      "2015-02-09    0.688212\n",
      "2015-02-10    0.428444\n",
      "2015-02-11   -0.097494\n",
      "                ...   \n",
      "2015-11-20    0.353462\n",
      "2015-11-23   -2.008867\n",
      "2015-11-24    0.312675\n",
      "2015-11-25    1.922157\n",
      "2015-11-26   -1.269591\n",
      "2015-11-27    0.896640\n",
      "2015-11-30   -0.924616\n",
      "2015-12-01   -0.339949\n",
      "2015-12-02   -1.796664\n",
      "2015-12-03   -1.580486\n",
      "2015-12-04   -0.979446\n",
      "2015-12-07   -1.113723\n",
      "2015-12-08    0.262540\n",
      "2015-12-09    1.370934\n",
      "2015-12-10    1.618149\n",
      "2015-12-11   -1.075160\n",
      "2015-12-14   -0.543556\n",
      "2015-12-15   -0.642022\n",
      "2015-12-16   -0.805214\n",
      "2015-12-17    0.321964\n",
      "2015-12-18   -0.433326\n",
      "2015-12-21   -0.328723\n",
      "2015-12-22    1.363409\n",
      "2015-12-23    1.248712\n",
      "2015-12-24    1.979489\n",
      "2015-12-25   -0.039533\n",
      "2015-12-28   -0.551896\n",
      "2015-12-29   -1.124461\n",
      "2015-12-30    0.963260\n",
      "2015-12-31   -0.170822\n",
      "Freq: B, Length: 261, dtype: float64\n"
     ]
    }
   ],
   "source": [
    "import pandas as pd\n",
    "import numpy as np\n",
    "import datetime as dtm\n",
    "\n",
    "dbd=pd.date_range('2015-01-01', '2015-12-31', freq='B')\n",
    "dser=pd.Series(np.random.randn(len(dbd)), index=dbd)\n",
    "print(dser)"
   ]
  },
  {
   "cell_type": "markdown",
   "metadata": {},
   "source": [
    "### 2.3 : Find the sum of the values in s for every Wednesday"
   ]
  },
  {
   "cell_type": "code",
   "execution_count": 228,
   "metadata": {},
   "outputs": [
    {
     "data": {
      "text/plain": [
       "3.7420627078967903"
      ]
     },
     "execution_count": 228,
     "metadata": {},
     "output_type": "execute_result"
    }
   ],
   "source": [
    "sum=0\n",
    "for i in range(len(dbd)) :\n",
    "    if dbd[i].day_name() == 'Wednesday' :\n",
    "        sum+=dser[i]\n",
    "sum"
   ]
  },
  {
   "cell_type": "markdown",
   "metadata": {},
   "source": [
    "### 2.4 : Average for each calendar month"
   ]
  },
  {
   "cell_type": "code",
   "execution_count": 229,
   "metadata": {},
   "outputs": [
    {
     "data": {
      "text/plain": [
       "2015-01-31    0.164382\n",
       "2015-02-28    0.330133\n",
       "2015-03-31    0.786724\n",
       "2015-04-30    0.040924\n",
       "2015-05-31   -0.162347\n",
       "2015-06-30    0.200586\n",
       "2015-07-31    0.345686\n",
       "2015-08-31   -0.124216\n",
       "2015-09-30   -0.309472\n",
       "2015-10-31   -0.107650\n",
       "2015-11-30   -0.332097\n",
       "2015-12-31   -0.104197\n",
       "Freq: M, dtype: float64"
      ]
     },
     "execution_count": 229,
     "metadata": {},
     "output_type": "execute_result"
    }
   ],
   "source": [
    "dser.resample('M').mean()"
   ]
  },
  {
   "cell_type": "markdown",
   "metadata": {},
   "source": [
    "### 2.5 : For each group of four consecutive calendar months in s, find the date on which the highest value occurred."
   ]
  },
  {
   "cell_type": "code",
   "execution_count": 230,
   "metadata": {},
   "outputs": [
    {
     "data": {
      "text/plain": [
       "2015-01-01    0.103462\n",
       "2015-01-02   -1.221265\n",
       "2015-01-03    0.138582\n",
       "2015-01-04   -0.330886\n",
       "2015-01-05   -1.141420\n",
       "2015-01-06   -0.703112\n",
       "2015-01-07    0.114442\n",
       "2015-01-08    0.097126\n",
       "2015-01-09    0.205725\n",
       "2015-01-10    0.926922\n",
       "2015-01-11   -1.394854\n",
       "2015-01-12   -1.966785\n",
       "2015-01-13    1.006076\n",
       "2015-01-14   -0.315921\n",
       "2015-01-15    0.465533\n",
       "2015-01-16    1.331891\n",
       "2015-01-17   -1.749306\n",
       "2015-01-18   -0.197406\n",
       "2015-01-19    0.811300\n",
       "2015-01-20    1.234373\n",
       "2015-01-21    1.193280\n",
       "2015-01-22   -1.263376\n",
       "2015-01-23   -0.044252\n",
       "2015-01-24    0.404374\n",
       "2015-01-25   -0.674416\n",
       "2015-01-26    0.239362\n",
       "2015-01-27   -0.992460\n",
       "2015-01-28    0.423486\n",
       "2015-01-29   -1.287581\n",
       "2015-01-30    0.482673\n",
       "                ...   \n",
       "2015-12-02    1.151364\n",
       "2015-12-03    1.597848\n",
       "2015-12-04   -0.026623\n",
       "2015-12-05   -0.646734\n",
       "2015-12-06    0.723855\n",
       "2015-12-07   -0.421720\n",
       "2015-12-08    0.658928\n",
       "2015-12-09    0.663437\n",
       "2015-12-10    0.853919\n",
       "2015-12-11   -0.049807\n",
       "2015-12-12   -0.952241\n",
       "2015-12-13    1.399940\n",
       "2015-12-14   -1.114924\n",
       "2015-12-15    0.112704\n",
       "2015-12-16    0.050747\n",
       "2015-12-17   -0.219340\n",
       "2015-12-18   -1.474975\n",
       "2015-12-19   -1.063728\n",
       "2015-12-20   -1.988110\n",
       "2015-12-21   -1.302489\n",
       "2015-12-22    0.968169\n",
       "2015-12-23    0.058529\n",
       "2015-12-24    0.386107\n",
       "2015-12-25   -0.462580\n",
       "2015-12-26   -1.443720\n",
       "2015-12-27   -1.392750\n",
       "2015-12-28   -0.201063\n",
       "2015-12-29   -1.004471\n",
       "2015-12-30    0.293336\n",
       "2015-12-31   -0.421781\n",
       "Freq: D, Length: 365, dtype: float64"
      ]
     },
     "execution_count": 230,
     "metadata": {},
     "output_type": "execute_result"
    }
   ],
   "source": [
    "dbd1=pd.date_range('2015-01-01', '2015-12-31', freq='D')\n",
    "dbd2=pd.date_range('2015-01-01', '2015-12-31', freq='Q')\n",
    "dtf=pd.Series(np.random.randn(len(dbd1)), index=dbd1)\n",
    "dtf"
   ]
  },
  {
   "cell_type": "code",
   "execution_count": 231,
   "metadata": {},
   "outputs": [
    {
     "data": {
      "text/plain": [
       "2015-03-31    1.891664\n",
       "2015-06-30    2.569665\n",
       "2015-09-30    2.385390\n",
       "2015-12-31    2.320418\n",
       "Freq: Q-DEC, dtype: float64"
      ]
     },
     "execution_count": 231,
     "metadata": {},
     "output_type": "execute_result"
    }
   ],
   "source": [
    "dtq=dtf.resample('Q').max()\n",
    "dtq"
   ]
  },
  {
   "cell_type": "code",
   "execution_count": 232,
   "metadata": {},
   "outputs": [
    {
     "name": "stdout",
     "output_type": "stream",
     "text": [
      "2015-02-28 00:00:00\n",
      "2015-04-25 00:00:00\n",
      "2015-07-30 00:00:00\n",
      "2015-10-05 00:00:00\n"
     ]
    }
   ],
   "source": [
    "for i in dbd2 :\n",
    "    for j in dbd1 :\n",
    "        if float(dtq[i]) == float(dtf[j]) :\n",
    "            print(j)"
   ]
  }
 ],
 "metadata": {
  "kernelspec": {
   "display_name": "Python 3",
   "language": "python",
   "name": "python3"
  },
  "language_info": {
   "codemirror_mode": {
    "name": "ipython",
    "version": 3
   },
   "file_extension": ".py",
   "mimetype": "text/x-python",
   "name": "python",
   "nbconvert_exporter": "python",
   "pygments_lexer": "ipython3",
   "version": "3.6.6"
  }
 },
 "nbformat": 4,
 "nbformat_minor": 2
}
